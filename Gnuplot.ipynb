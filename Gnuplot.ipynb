{
 "cells": [
  {
   "cell_type": "markdown",
   "metadata": {},
   "source": [
    "# Plotting of data"
   ]
  },
  {
   "cell_type": "code",
   "execution_count": null,
   "metadata": {
    "collapsed": true
   },
   "outputs": [],
   "source": [
    " plot \"expo.dat\" using 1:2:($3/5) with errorbars title \"error bar\"\n",
    " replot \"expo.dat\" w lp title \"radioactive decay\"   \n",
    " set xlabel \"time(sec)\"\n",
    "  set ylabel “count/min”\n",
    "  replot"
   ]
  },
  {
   "cell_type": "markdown",
   "metadata": {},
   "source": [
    "# Curve fitting "
   ]
  },
  {
   "cell_type": "code",
   "execution_count": null,
   "metadata": {
    "collapsed": true
   },
   "outputs": [],
   "source": [
    "plot “expo.dat”\n",
    "f(x) = a*exp(-b*x)\n",
    "fit f(x) “expo.dat” using 1:2 via a,b\n",
    "[in this case rms of residual should be near to one   and a should be near to 1]\n",
    "plot “expo.dat”,f(x)"
   ]
  },
  {
   "cell_type": "markdown",
   "metadata": {},
   "source": [
    "# Fitting with error bars "
   ]
  },
  {
   "cell_type": "code",
   "execution_count": null,
   "metadata": {
    "collapsed": true
   },
   "outputs": [],
   "source": [
    "plot “expo.dat” yerrors\n",
    "\n",
    "fit f(x) \"expo.dat\" using 1:2:3 yerrors via a,b\n",
    "plot \"expo.dat\" w errorbars, f(x)\n",
    "plot \"expo.dat\" using 1:2:($3/5)  w errorbars, f(x)"
   ]
  }
 ],
 "metadata": {
  "kernelspec": {
   "display_name": "Python 3",
   "language": "python",
   "name": "python3"
  },
  "language_info": {
   "codemirror_mode": {
    "name": "ipython",
    "version": 3
   },
   "file_extension": ".py",
   "mimetype": "text/x-python",
   "name": "python",
   "nbconvert_exporter": "python",
   "pygments_lexer": "ipython3",
   "version": "3.6.3"
  }
 },
 "nbformat": 4,
 "nbformat_minor": 2
}
